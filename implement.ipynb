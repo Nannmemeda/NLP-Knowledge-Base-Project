{
 "cells": [
  {
   "cell_type": "code",
   "execution_count": 1,
   "metadata": {},
   "outputs": [],
   "source": [
    "from transformers import AutoModelForSeq2SeqLM, AutoTokenizer\n",
    "import torch\n",
    "import pandas as pd\n"
   ]
  },
  {
   "cell_type": "code",
   "execution_count": 2,
   "metadata": {},
   "outputs": [],
   "source": [
    "tokenizer = AutoTokenizer.from_pretrained(\"Babelscape/rebel-large\")\n",
    "model = AutoModelForSeq2SeqLM.from_pretrained(\"Babelscape/rebel-large\")"
   ]
  },
  {
   "cell_type": "code",
   "execution_count": 3,
   "metadata": {},
   "outputs": [],
   "source": [
    "# Extract relations from model output\n",
    "\n",
    "def extract_relations_from_model_output(text):\n",
    "    relations = []\n",
    "    relation, subject, relation, object_ = '', '', '', ''\n",
    "    text = text.strip()\n",
    "    current = 'x'\n",
    "    text_replaced = text.replace(\"<s>\", \"\").replace(\"<pad>\", \"\").replace(\"</s>\", \"\")\n",
    "    for token in text_replaced.split():\n",
    "        if token == \"<triplet>\":\n",
    "            current = 't'\n",
    "            if relation != '':\n",
    "                relations.append({\n",
    "                    'head': subject.strip(),\n",
    "                    'type': relation.strip(),\n",
    "                    'tail': object_.strip()\n",
    "                })\n",
    "                relation = ''\n",
    "            subject = ''\n",
    "        elif token == \"<subj>\":\n",
    "            current = 's'\n",
    "            if relation != '':\n",
    "                relations.append({\n",
    "                    'head': subject.strip(),\n",
    "                    'type': relation.strip(),\n",
    "                    'tail': object_.strip()\n",
    "                })\n",
    "            object_ = ''\n",
    "        elif token == \"<obj>\":\n",
    "            current = 'o'\n",
    "            relation = ''\n",
    "        else:\n",
    "            if current == 't':\n",
    "                subject += ' ' + token\n",
    "            elif current == 's':\n",
    "                object_ += ' ' + token\n",
    "            elif current == 'o':\n",
    "                relation += ' ' + token\n",
    "    if subject != '' and relation != '' and object_ != '':\n",
    "        relations.append({\n",
    "            'head': subject.strip(),\n",
    "            'type': relation.strip(),\n",
    "            'tail': object_.strip()\n",
    "        })\n",
    "    return relations"
   ]
  },
  {
   "cell_type": "code",
   "execution_count": 4,
   "metadata": {},
   "outputs": [],
   "source": [
    "# Implement KB class\n",
    "\n",
    "class KB():\n",
    "    def __init__(self):\n",
    "        self.relations = []\n",
    "\n",
    "    def are_relations_equal(self,r1,r2):\n",
    "        return all(r1[attr] == r2[attr] for attr in [\"head\",\"type\",\"tail\"])\n",
    "    \n",
    "    def exists_relation(self,r1):\n",
    "        return any(self.are_relations_equal(r1,r2) for r2 in self.relations)\n",
    "    \n",
    "    def add_relation(self,r):\n",
    "        if not self.exists_relation(r):\n",
    "            self.relations.append(r)\n",
    "\n",
    "    def print(self):\n",
    "        print(\"Relations:\")\n",
    "        for r in self.relations:\n",
    "            print(f\"  {r}\")"
   ]
  },
  {
   "cell_type": "code",
   "execution_count": 5,
   "metadata": {},
   "outputs": [],
   "source": [
    "def from_small_text_to_kb(text,verbose=False):\n",
    "    kb = KB()\n",
    "\n",
    "    # Tokenizer text\n",
    "    model_inputs = tokenizer(text, max_length=512, padding=True, truncation=True, return_tensors='pt')\n",
    "    if verbose:\n",
    "        print(f\"Num tokens: {len(model_inputs['input_ids'][0])}\")\n",
    "\n",
    "    # Generate\n",
    "    gen_kwargs = {\n",
    "        \"max_length\": 216,\n",
    "        \"length_penalty\": 0,\n",
    "        \"num_beams\": 3,\n",
    "        \"num_return_sequences\": 3\n",
    "    }\n",
    "    generated_tokens = model.generate(\n",
    "        **model_inputs,\n",
    "        **gen_kwargs,\n",
    "    )\n",
    "    decoded_preds = tokenizer.batch_decode(generated_tokens, skip_special_tokens=False)\n",
    "\n",
    "    # create kb\n",
    "    for sentence_pred in decoded_preds:\n",
    "        relations = extract_relations_from_model_output(sentence_pred)\n",
    "        for r in relations:\n",
    "            kb.add_relation(r)\n",
    "\n",
    "    return kb\n"
   ]
  },
  {
   "cell_type": "code",
   "execution_count": 6,
   "metadata": {},
   "outputs": [
    {
     "name": "stdout",
     "output_type": "stream",
     "text": [
      "Num tokens: 50\n",
      "Relations:\n",
      "  {'head': 'tick', 'type': 'subclass of', 'tail': 'pathogens'}\n",
      "  {'head': 'Anaplasma phagocytophilum', 'type': 'instance of', 'tail': 'bacteria'}\n",
      "  {'head': 'Tick-borne encephalitis virus', 'type': 'has cause', 'tail': 'Borrelia burgdorferi sensu lato'}\n",
      "  {'head': 'SNHG6', 'type': 'subclass of', 'tail': 'lncRNA'}\n",
      "  {'head': 'SNHG6', 'type': 'instance of', 'tail': 'lncRNA'}\n",
      "  {'head': 'lncRNA', 'type': 'use', 'tail': 'transcription regulation'}\n",
      "  {'head': 'interleukin-18', 'type': 'part of', 'tail': 'monocytic cells'}\n",
      "  {'head': 'monocytic cells', 'type': 'product or material produced', 'tail': 'interleukin-18'}\n",
      "  {'head': 'interleukin-18', 'type': 'part of', 'tail': 'monocytic cell'}\n",
      "  {'head': 'Metabolism-regulating non-coding RNAs', 'type': 'facet of', 'tail': 'breast cancer'}\n",
      "  {'head': 'Metabolism-regulating non-coding RNA', 'type': 'facet of', 'tail': 'breast cancer'}\n",
      "  {'head': 'Metabolism-regulating non-coding RNAs', 'type': 'medical condition treated', 'tail': 'breast cancer'}\n",
      "  {'head': 'CHCHD2', 'type': 'has effect', 'tail': 'Parkinson’s disease'}\n",
      "  {'head': 'Parkinson’s disease', 'type': 'has cause', 'tail': 'CHCHD2'}\n",
      "  {'head': 'CHCHD2-linked', 'type': 'has effect', 'tail': 'Parkinson’s disease'}\n",
      "  {'head': 'triple negative', 'type': 'subclass of', 'tail': 'breast cancer'}\n",
      "  {'head': 'triple negative breast cancer', 'type': 'has cause', 'tail': 'pregnancy associated plasma protein-A'}\n",
      "  {'head': 'triple negative breast cancer', 'type': 'has part', 'tail': 'pregnancy associated plasma protein-A'}\n",
      "  {'head': 'drug development', 'type': 'part of', 'tail': 'Translational research'}\n",
      "  {'head': 'drug development', 'type': 'subclass of', 'tail': 'Translational research'}\n",
      "  {'head': 'biomarker', 'type': 'part of', 'tail': 'drug development'}\n",
      "  {'head': 'pancreatic cancer', 'type': 'has cause', 'tail': 'Germline mutations'}\n",
      "  {'head': 'pancreatic cancer', 'type': 'has cause', 'tail': 'Germline mutations of homologous recombination genes'}\n",
      "  {'head': 'Germline mutations of homologous recombination genes', 'type': 'has effect', 'tail': 'pancreatic cancer'}\n",
      "  {'head': 'Rab37', 'type': 'medical condition treated', 'tail': 'lung cancer'}\n",
      "  {'head': 'lung cancer', 'type': 'drug used for treatment', 'tail': 'Rab37'}\n",
      "  {'head': 'PD-1', 'type': 'medical condition treated', 'tail': 'lung cancer'}\n",
      "  {'head': 'lung cancer', 'type': 'drug used for treatment', 'tail': 'PD-1'}\n",
      "  {'head': 'CD8 T cell', 'type': 'part of', 'tail': 'immune system'}\n",
      "  {'head': 'T cell', 'type': 'part of', 'tail': 'immune system'}\n",
      "  {'head': 'CD8 T cells', 'type': 'part of', 'tail': 'immune system'}\n"
     ]
    }
   ],
   "source": [
    "# Read the article titles and generate kb\n",
    "\n",
    "article_info = pd.read_csv(\"articles.csv\")\n",
    "article_title = list(article_info['Title'][:10])\n",
    "\n",
    "kb = from_small_text_to_kb(article_title,verbose=True)\n",
    "kb.print()"
   ]
  },
  {
   "cell_type": "code",
   "execution_count": null,
   "metadata": {},
   "outputs": [],
   "source": []
  }
 ],
 "metadata": {
  "kernelspec": {
   "display_name": "Python 3",
   "language": "python",
   "name": "python3"
  },
  "language_info": {
   "codemirror_mode": {
    "name": "ipython",
    "version": 3
   },
   "file_extension": ".py",
   "mimetype": "text/x-python",
   "name": "python",
   "nbconvert_exporter": "python",
   "pygments_lexer": "ipython3",
   "version": "3.11.2"
  }
 },
 "nbformat": 4,
 "nbformat_minor": 2
}
