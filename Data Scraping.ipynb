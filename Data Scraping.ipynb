{
 "cells": [
  {
   "cell_type": "code",
   "execution_count": 40,
   "metadata": {},
   "outputs": [],
   "source": [
    "import time\n",
    "import requests\n",
    "import schedule\n",
    "import pandas as pd\n",
    "from bs4 import BeautifulSoup"
   ]
  },
  {
   "cell_type": "code",
   "execution_count": 15,
   "metadata": {},
   "outputs": [],
   "source": [
    "# Find all articles in a single page\n",
    "\n",
    "def extract_articles(page_url):\n",
    "    data = requests.get(page_url)\n",
    "    soup = BeautifulSoup(data.text)\n",
    "    titles = soup.find_all('h3', class_='c-listing__title')\n",
    "    title_item = []\n",
    "    url_item = []\n",
    "\n",
    "    for title in titles:\n",
    "        article_title = title.a.get_text()\n",
    "        article_url = title.a['href']\n",
    "        title_item.append(article_title)\n",
    "        url_item.append(article_url)\n",
    "    \n",
    "    return title_item, url_item"
   ]
  },
  {
   "cell_type": "code",
   "execution_count": 23,
   "metadata": {},
   "outputs": [
    {
     "name": "stdout",
     "output_type": "stream",
     "text": [
      "32\n"
     ]
    }
   ],
   "source": [
    "# Get the maximum page number\n",
    "\n",
    "base_url = \"https://jbiomedsci.biomedcentral.com/articles\"\n",
    "data = requests.get(base_url)\n",
    "soup = BeautifulSoup(data.text)\n",
    "pages = soup.find_all('a', class_ = \"c-pagination__link\")\n",
    "max_page_number = 0\n",
    "for page in pages:\n",
    "    page_text = page.get_text().strip()\n",
    "    if page_text.isdigit():\n",
    "        page_num = int(page_text)\n",
    "        if page_num > max_page_number:\n",
    "            max_page_number = page_num"
   ]
  },
  {
   "cell_type": "code",
   "execution_count": 27,
   "metadata": {},
   "outputs": [
    {
     "name": "stdout",
     "output_type": "stream",
     "text": [
      "1563\n",
      "1563\n"
     ]
    }
   ],
   "source": [
    "# Iterate all pages and get all the titles and urls\n",
    "\n",
    "titles = []\n",
    "urls = []\n",
    "\n",
    "base_url = \"https://jbiomedsci.biomedcentral.com/articles\"\n",
    "\n",
    "# Add base url titles and urls\n",
    "title, url = extract_articles(base_url)\n",
    "for t in title:\n",
    "    titles.append(t)\n",
    "for u in url:\n",
    "    urls.append(u)\n",
    "\n",
    "# Add second page to max page titles and urls\n",
    "for i in range(2, max_page_number + 1):\n",
    "    page_url = f\"https://jbiomedsci.biomedcentral.com/articles?searchType=journalSearch&sort=PubDate&page={i}\"\n",
    "    title, url = extract_articles(page_url)\n",
    "    for t in title:\n",
    "        titles.append(t)\n",
    "    for u in url:\n",
    "        urls.append(u)"
   ]
  },
  {
   "cell_type": "code",
   "execution_count": 38,
   "metadata": {},
   "outputs": [],
   "source": [
    "# Check the titles and urls length\n",
    "assert(len(titles) == len(urls))\n",
    "\n",
    "# Check if there's any duplicate urls inside the datasets\n",
    "assert(len(urls) == len(set(urls)))"
   ]
  },
  {
   "cell_type": "code",
   "execution_count": 30,
   "metadata": {},
   "outputs": [],
   "source": [
    "# Make pandas dataframe\n",
    "df = pd.DataFrame({'Title':titles, 'URL':urls})\n",
    "df.to_csv(\"articles.csv\")"
   ]
  }
 ],
 "metadata": {
  "kernelspec": {
   "display_name": "Python 3",
   "language": "python",
   "name": "python3"
  },
  "language_info": {
   "codemirror_mode": {
    "name": "ipython",
    "version": 3
   },
   "file_extension": ".py",
   "mimetype": "text/x-python",
   "name": "python",
   "nbconvert_exporter": "python",
   "pygments_lexer": "ipython3",
   "version": "3.11.2"
  }
 },
 "nbformat": 4,
 "nbformat_minor": 2
}
